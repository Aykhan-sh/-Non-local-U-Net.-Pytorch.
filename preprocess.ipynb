{
 "cells": [
  {
   "cell_type": "code",
   "execution_count": 1,
   "metadata": {},
   "outputs": [],
   "source": [
    "import os\n",
    "import numpy as np\n",
    "from nibabel.testing import data_path\n",
    "import nibabel as nib\n",
    "import matplotlib.pyplot as plt\n",
    "import cv2\n",
    "import pandas as pd\n",
    "\n",
    "from nonlocalunet.models import NonLocalUnet\n",
    "    \n",
    "import torch\n",
    "from torch.utils.data import Dataset, DataLoader, random_split\n",
    "from torch import nn\n",
    "import torch.nn.functional as F\n",
    "import torchvision\n",
    "from torchvision import transforms\n",
    "\n",
    "import random\n",
    "from torch.utils.tensorboard import SummaryWriter\n",
    "\n",
    "from trainer.utils import open_ct, open_mask\n",
    "from nonlocalunet.infer import pad, tile\n",
    "from tqdm.notebook import tqdm"
   ]
  },
  {
   "cell_type": "code",
   "execution_count": 2,
   "metadata": {},
   "outputs": [],
   "source": [
    "def save_tails(idx, shape, save_path = 'data/processed'):\n",
    "    img, mask = open_ct(idx), open_mask(idx)\n",
    "    img = pad(img, shape)\n",
    "    img = tile(img, shape)\n",
    "\n",
    "    mask = pad(mask, shape)\n",
    "    mask = tile(mask, shape)\n",
    "\n",
    "    s = mask.shape\n",
    "    vox_area = s[1] * s[2] * s[3]\n",
    "    zero_mask = 0\n",
    "    vox_num = 0\n",
    "    im_path = os.path.join(save_path, 'images', str(idx))\n",
    "    mask_path = os.path.join(save_path, 'masks', str(idx))\n",
    "    os.makedirs(im_path, exist_ok=True)\n",
    "    os.makedirs(mask_path, exist_ok=True)\n",
    "    for i in range(img.shape[0]):\n",
    "        if (mask[i]==0).sum()/vox_area > 0.95:\n",
    "            zero_mask += 1\n",
    "            continue\n",
    "        np.save(os.path.join(im_path, f'{vox_num}.npy'), img[i])\n",
    "        np.save(os.path.join(mask_path, f'{vox_num}.npy'), mask[i])\n",
    "        vox_num += 1"
   ]
  },
  {
   "cell_type": "code",
   "execution_count": 4,
   "metadata": {
    "tags": []
   },
   "outputs": [
    {
     "data": {
      "application/vnd.jupyter.widget-view+json": {
       "model_id": "40973d250b83485ebd92b6a0b4139a5b",
       "version_major": 2,
       "version_minor": 0
      },
      "text/plain": [
       "  0%|          | 0/140 [00:00<?, ?it/s]"
      ]
     },
     "metadata": {},
     "output_type": "display_data"
    }
   ],
   "source": [
    "import multiprocessing\n",
    "from joblib import Parallel, delayed\n",
    "num_cores = 4 # number of cores to use\n",
    "#multiprocessing.cpu_count()\n",
    "shape = (64, 128, 128)\n",
    "list_to_iterate = [(i, shape) for i in range(140)]\n",
    "result_list = Parallel(n_jobs=num_cores)(delayed(save_tails)(i, j) for i, j in tqdm(list_to_iterate))"
   ]
  },
  {
   "cell_type": "code",
   "execution_count": 5,
   "metadata": {},
   "outputs": [],
   "source": [
    "impath = 'data/processed/images/'\n",
    "maskpath = 'data/processed/masks/'\n",
    "result = []\n",
    "pathes = []\n",
    "mask_pathes = []\n",
    "for i in range(140):\n",
    "    path = os.listdir(f'{impath}{i}')\n",
    "    path = [f'{impath}{i}/{vox}' for vox in path]\n",
    "    pathes += path\n",
    "    mask_path = os.listdir(f'{maskpath}{i}')\n",
    "    mask_path = [f'{maskpath}{i}/{vox}' for vox in mask_path]\n",
    "    mask_pathes += mask_path\n",
    "    result += [i]*len(path)"
   ]
  },
  {
   "cell_type": "code",
   "execution_count": 6,
   "metadata": {},
   "outputs": [],
   "source": [
    "df = pd.DataFrame({'volume': result, 'path': pathes, 'mask': mask_pathes})"
   ]
  },
  {
   "cell_type": "code",
   "execution_count": 7,
   "metadata": {},
   "outputs": [],
   "source": [
    "df.to_csv('data/processed/df.csv', index=False)"
   ]
  },
  {
   "cell_type": "code",
   "execution_count": 7,
   "metadata": {},
   "outputs": [
    {
     "ename": "NameError",
     "evalue": "name 'img' is not defined",
     "output_type": "error",
     "traceback": [
      "\u001b[0;31m---------------------------------------------------------------------------\u001b[0m",
      "\u001b[0;31mNameError\u001b[0m                                 Traceback (most recent call last)",
      "\u001b[0;32m<ipython-input-7-187c93499e19>\u001b[0m in \u001b[0;36m<module>\u001b[0;34m\u001b[0m\n\u001b[1;32m      3\u001b[0m     \u001b[0mplt\u001b[0m\u001b[0;34m.\u001b[0m\u001b[0msubplot\u001b[0m\u001b[0;34m(\u001b[0m\u001b[0;36m8\u001b[0m\u001b[0;34m,\u001b[0m\u001b[0;36m8\u001b[0m\u001b[0;34m,\u001b[0m \u001b[0mi\u001b[0m\u001b[0;34m+\u001b[0m\u001b[0;36m1\u001b[0m\u001b[0;34m)\u001b[0m\u001b[0;34m\u001b[0m\u001b[0;34m\u001b[0m\u001b[0m\n\u001b[1;32m      4\u001b[0m     \u001b[0mplt\u001b[0m\u001b[0;34m.\u001b[0m\u001b[0maxis\u001b[0m\u001b[0;34m(\u001b[0m\u001b[0;34m'off'\u001b[0m\u001b[0;34m)\u001b[0m\u001b[0;34m\u001b[0m\u001b[0;34m\u001b[0m\u001b[0m\n\u001b[0;32m----> 5\u001b[0;31m     \u001b[0mplt\u001b[0m\u001b[0;34m.\u001b[0m\u001b[0mimshow\u001b[0m\u001b[0;34m(\u001b[0m\u001b[0mimg\u001b[0m\u001b[0;34m[\u001b[0m\u001b[0mi\u001b[0m\u001b[0;34m]\u001b[0m\u001b[0;34m)\u001b[0m\u001b[0;34m\u001b[0m\u001b[0;34m\u001b[0m\u001b[0m\n\u001b[0m",
      "\u001b[0;31mNameError\u001b[0m: name 'img' is not defined"
     ]
    },
    {
     "data": {
      "image/png": "[encoded data removed]",
      "text/plain": [
       "<Figure size 936x936 with 1 Axes>"
      ]
     },
     "metadata": {
      "needs_background": "light"
     },
     "output_type": "display_data"
    }
   ],
   "source": [
    "plt.figure(figsize=(13,13))\n",
    "for i in range(32):\n",
    "    plt.subplot(8,8, i+1)\n",
    "    plt.axis('off')\n",
    "    plt.imshow(img[i])"
   ]
  },
  {
   "cell_type": "code",
   "execution_count": null,
   "metadata": {},
   "outputs": [],
   "source": []
  }
 ],
 "metadata": {
  "kernelspec": {
   "display_name": "Python 3",
   "language": "python",
   "name": "python3"
  },
  "language_info": {
   "codemirror_mode": {
    "name": "ipython",
    "version": 3
   },
   "file_extension": ".py",
   "mimetype": "text/x-python",
   "name": "python",
   "nbconvert_exporter": "python",
   "pygments_lexer": "ipython3",
   "version": "3.8.8"
  }
 },
 "nbformat": 4,
 "nbformat_minor": 4
}
