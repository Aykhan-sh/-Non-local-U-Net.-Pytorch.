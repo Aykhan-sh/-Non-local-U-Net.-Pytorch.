{
 "cells": [
  {
   "cell_type": "code",
   "execution_count": 2,
   "metadata": {
    "collapsed": true
   },
   "outputs": [],
   "source": [
    "import torch\n",
    "from torch import nn\n",
    "from model.model import GlobalAggregationBlock"
   ]
  },
  {
   "cell_type": "code",
   "execution_count": 3,
   "metadata": {},
   "outputs": [],
   "source": [
    "X = torch.rand((2,3,6,8,8))  # b, c, d, h, w"
   ]
  },
  {
   "cell_type": "code",
   "execution_count": 32,
   "metadata": {},
   "outputs": [],
   "source": [
    "params = "
   ]
  },
  {
   "cell_type": "code",
   "execution_count": 36,
   "metadata": {},
   "outputs": [],
   "source": [
    "qt = nn.ConvTranspose3d(in_channels=3,\n",
    "                        out_channels = 4,\n",
    "                        kernel_size=(3, 3, 3),\n",
    "                        stride=2,\n",
    "                        padding=1,\n",
    "                        bias=True)"
   ]
  },
  {
   "cell_type": "code",
   "execution_count": 37,
   "metadata": {},
   "outputs": [],
   "source": [
    "qt = nn.Conv3d(in_channels=3,\n",
    "               out_channels = 4,\n",
    "               kernel_size=(3, 3, 3),\n",
    "               stride=2,\n",
    "               padding=1,\n",
    "               bias=True)"
   ]
  },
  {
   "cell_type": "code",
   "execution_count": 38,
   "metadata": {},
   "outputs": [],
   "source": [
    "gab = GlobalAggregationBlock(in_channels=3,\n",
    "                             out_channels = 4,\n",
    "                             ck=4,\n",
    "                             cv=4,\n",
    "                            query_transform=qt)"
   ]
  },
  {
   "cell_type": "code",
   "execution_count": 39,
   "metadata": {},
   "outputs": [
    {
     "name": "stdout",
     "output_type": "stream",
     "text": [
      "torch.Size([2, 4, 3, 4, 4])\n",
      "torch.Size([2, 4, 48])\n",
      "torch.Size([2, 4, 384])\n",
      "torch.Size([2, 4, 384])\n",
      "torch.Size([2, 48, 384])\n",
      "torch.Size([2, 48, 4])\n",
      "torch.Size([2, 4, 3, 4, 4])\n"
     ]
    }
   ],
   "source": [
    "out = gab(X)"
   ]
  },
  {
   "cell_type": "code",
   "execution_count": 66,
   "metadata": {},
   "outputs": [
    {
     "data": {
      "text/plain": [
       "torch.Size([2, 4, 20, 44, 44])"
      ]
     },
     "execution_count": 66,
     "metadata": {},
     "output_type": "execute_result"
    }
   ],
   "source": [
    "out.shape"
   ]
  },
  {
   "cell_type": "code",
   "execution_count": null,
   "metadata": {},
   "outputs": [],
   "source": []
  }
 ],
 "metadata": {
  "kernelspec": {
   "display_name": "Python 3",
   "language": "python",
   "name": "python3"
  },
  "language_info": {
   "codemirror_mode": {
    "name": "ipython",
    "version": 3
   },
   "file_extension": ".py",
   "mimetype": "text/x-python",
   "name": "python",
   "nbconvert_exporter": "python",
   "pygments_lexer": "ipython3",
   "version": "3.7.3"
  }
 },
 "nbformat": 4,
 "nbformat_minor": 2
}
