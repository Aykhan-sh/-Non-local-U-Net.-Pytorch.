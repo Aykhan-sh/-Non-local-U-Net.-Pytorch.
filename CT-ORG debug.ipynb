{
 "cells": [
  {
   "cell_type": "code",
   "execution_count": 1,
   "id": "f3236fb5-9008-46ff-9cc4-d0a624403d5a",
   "metadata": {},
   "outputs": [],
   "source": [
    "import shutil\n",
    "import pandas as pd\n",
    "import numpy as np\n",
    "import SimpleITK as sitk\n",
    "import os\n",
    "from tqdm.notebook import tqdm\n",
    "import cv2\n",
    "\n",
    "import matplotlib.pyplot as plt\n",
    "\n",
    "import torch\n",
    "from torch.utils.data import Dataset, DataLoader\n",
    "\n",
    "from trainer.utils import split_mask, open_ct, open_mask\n",
    "from trainer.loader import Ds\n",
    "from trainer.Trainer import Trainer\n",
    "from nonlocalunet.models import NonLocalUnet, NonLocalUnetBuilder\n",
    "from torchmed.images import to_numpy\n",
    "\n",
    "import seaborn as sns"
   ]
  },
  {
   "cell_type": "code",
   "execution_count": 2,
   "id": "e0f839a1-1cff-43e6-b472-16b1161fff01",
   "metadata": {},
   "outputs": [],
   "source": [
    "df = pd.read_csv('data/processed/df.csv')"
   ]
  },
  {
   "cell_type": "code",
   "execution_count": 4,
   "id": "43c313bb-0d30-4337-a650-881f95de14d9",
   "metadata": {},
   "outputs": [],
   "source": [
    "img = np.load(df['path'][0])\n",
    "mask = np.load(df['mask'][0])"
   ]
  },
  {
   "cell_type": "code",
   "execution_count": 5,
   "id": "fd558354-2da1-44f9-b5e0-b7c4ba6868a3",
   "metadata": {},
   "outputs": [
    {
     "data": {
      "text/plain": [
       "0.3125"
      ]
     },
     "execution_count": 5,
     "metadata": {},
     "output_type": "execute_result"
    }
   ],
   "source": [
    "s = mask.shape\n",
    "vox_area = s[1] * s[2] * s[0]\n",
    "(mask==0).sum()/vox_area"
   ]
  },
  {
   "cell_type": "code",
   "execution_count": 2,
   "id": "ca8eb51f-39c0-4a00-89cb-d126e3bcccad",
   "metadata": {},
   "outputs": [],
   "source": [
    "val_indexes = list(range(0,1))\n",
    "train_indexes = list(range(129, 139))\n",
    "shape = [16, 16, 16]\n",
    "train_batch_size = 2\n",
    "val_batch_size = 2\n",
    "\n",
    "train_ds = Ds(train_indexes, shape)\n",
    "train_dl = DataLoader(train_ds, batch_size=train_batch_size, shuffle=True, num_workers=16)\n",
    "\n",
    "val_ds = Ds(val_indexes, shape)\n",
    "val_dl = DataLoader(val_ds, batch_size=val_batch_size, shuffle=True, num_workers=8)"
   ]
  },
  {
   "cell_type": "code",
   "execution_count": 3,
   "id": "0f08dcc0-89e3-4209-9e4c-0c69ad02202e",
   "metadata": {},
   "outputs": [],
   "source": [
    "device = 'cuda:0'\n",
    "depth = 3\n",
    "init_filters = 32\n",
    "lr = 0.0005\n",
    "model = NonLocalUnetBuilder(1, 7, depth=depth, init_filters=init_filters)\n",
    "# model = torch.nn.DataParallel(model, device_ids=[1, 0, 2, 3], output_device=device)\n",
    "model.to(device)\n",
    "optimizer = torch.optim.Adam(model.parameters(), lr = lr)\n",
    "scheduler = torch.optim.lr_scheduler.ReduceLROnPlateau(optimizer)\n",
    "criterion = torch.nn.BCELoss()\n",
    "\n",
    "name = f'{shape} b{train_batch_size} lr{lr} depth{depth} filt{init_filters}'"
   ]
  },
  {
   "cell_type": "code",
   "execution_count": 4,
   "id": "6986ea8f-a83b-477a-a869-13c519d38234",
   "metadata": {},
   "outputs": [],
   "source": [
    "trainer = Trainer(model, 7, optimizer, scheduler, criterion, train_dl, val_indexes, device, name)"
   ]
  },
  {
   "cell_type": "code",
   "execution_count": null,
   "id": "97701ae2-bb79-41d3-a67b-ce0f6a1822f2",
   "metadata": {
    "tags": []
   },
   "outputs": [
    {
     "data": {
      "application/vnd.jupyter.widget-view+json": {
       "model_id": "a0395d90c011485e8cbcb9e31cb80fff",
       "version_major": 2,
       "version_minor": 0
      },
      "text/plain": [
       "Epoch:   0%|          | 0/1000 [00:00<?, ?it/s]"
      ]
     },
     "metadata": {},
     "output_type": "display_data"
    },
    {
     "data": {
      "application/vnd.jupyter.widget-view+json": {
       "model_id": "",
       "version_major": 2,
       "version_minor": 0
      },
      "text/plain": [
       "Train:   0%|          | 0/5 [00:00<?, ?it/s]"
      ]
     },
     "metadata": {},
     "output_type": "display_data"
    },
    {
     "data": {
      "application/vnd.jupyter.widget-view+json": {
       "model_id": "",
       "version_major": 2,
       "version_minor": 0
      },
      "text/plain": [
       "Val:   0%|          | 0/1 [00:00<?, ?it/s]"
      ]
     },
     "metadata": {},
     "output_type": "display_data"
    },
    {
     "data": {
      "application/vnd.jupyter.widget-view+json": {
       "model_id": "",
       "version_major": 2,
       "version_minor": 0
      },
      "text/plain": [
       "Train:   0%|          | 0/5 [00:00<?, ?it/s]"
      ]
     },
     "metadata": {},
     "output_type": "display_data"
    },
    {
     "data": {
      "application/vnd.jupyter.widget-view+json": {
       "model_id": "1b59d788c50c4f958cc659249567a86d",
       "version_major": 2,
       "version_minor": 0
      },
      "text/plain": [
       "Val:   0%|          | 0/1 [00:00<?, ?it/s]"
      ]
     },
     "metadata": {},
     "output_type": "display_data"
    }
   ],
   "source": [
    "trainer.train(1000)"
   ]
  }
 ],
 "metadata": {
  "kernelspec": {
   "display_name": "Python 3",
   "language": "python",
   "name": "python3"
  },
  "language_info": {
   "codemirror_mode": {
    "name": "ipython",
    "version": 3
   },
   "file_extension": ".py",
   "mimetype": "text/x-python",
   "name": "python",
   "nbconvert_exporter": "python",
   "pygments_lexer": "ipython3",
   "version": "3.8.8"
  }
 },
 "nbformat": 4,
 "nbformat_minor": 5
}
